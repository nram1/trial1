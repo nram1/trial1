{
  "cells": [
    {
      "cell_type": "markdown",
      "metadata": {
        "id": "view-in-github",
        "colab_type": "text"
      },
      "source": [
        "<a href=\"https://colab.research.google.com/github/nram1/trial1/blob/main/datathon.ipynb\" target=\"_parent\"><img src=\"https://colab.research.google.com/assets/colab-badge.svg\" alt=\"Open In Colab\"/></a>"
      ]
    },
    {
      "cell_type": "code",
      "execution_count": 261,
      "metadata": {
        "id": "vu_cO4pxgNCo"
      },
      "outputs": [],
      "source": [
        "import pandas as pd\n",
        "from sklearn.preprocessing import OrdinalEncoder\n",
        "import scipy\n",
        "from scipy.stats import ttest_ind\n",
        "from statsmodels.multivariate.manova import MANOVA\n"
      ]
    },
    {
      "cell_type": "code",
      "execution_count": 262,
      "metadata": {
        "id": "Qym3djWygeIp"
      },
      "outputs": [],
      "source": [
        "df = pd.read_csv(\"track.csv\")"
      ]
    },
    {
      "cell_type": "code",
      "execution_count": 263,
      "metadata": {
        "id": "lWIs9DKaixZm",
        "colab": {
          "base_uri": "https://localhost:8080/",
          "height": 438
        },
        "outputId": "b3389e93-84e4-48bc-9b8f-d897b2149771"
      },
      "outputs": [
        {
          "output_type": "execute_result",
          "data": {
            "text/html": [
              "\n",
              "  <div id=\"df-442a09f1-a22a-44ee-8825-43b05a386e09\">\n",
              "    <div class=\"colab-df-container\">\n",
              "      <div>\n",
              "<style scoped>\n",
              "    .dataframe tbody tr th:only-of-type {\n",
              "        vertical-align: middle;\n",
              "    }\n",
              "\n",
              "    .dataframe tbody tr th {\n",
              "        vertical-align: top;\n",
              "    }\n",
              "\n",
              "    .dataframe thead th {\n",
              "        text-align: right;\n",
              "    }\n",
              "</style>\n",
              "<table border=\"1\" class=\"dataframe\">\n",
              "  <thead>\n",
              "    <tr style=\"text-align: right;\">\n",
              "      <th></th>\n",
              "      <th>year</th>\n",
              "      <th>state_code</th>\n",
              "      <th>county_code</th>\n",
              "      <th>msa</th>\n",
              "      <th>census_tract</th>\n",
              "      <th>applicant_age</th>\n",
              "      <th>applicant_age_above_62</th>\n",
              "      <th>race</th>\n",
              "      <th>ethnicity</th>\n",
              "      <th>sex</th>\n",
              "      <th>income</th>\n",
              "      <th>debt_to_income_ratio</th>\n",
              "      <th>tract_one_to_four_family_homes</th>\n",
              "      <th>tract_median_age_of_hu</th>\n",
              "      <th>tract_minority_pop_percent</th>\n",
              "      <th>tract_population</th>\n",
              "      <th>tract_to_msa_income_percentage</th>\n",
              "      <th>lei</th>\n",
              "      <th>aus</th>\n",
              "      <th>purchaser_type</th>\n",
              "      <th>ffiec_msa_md_median_fam_income</th>\n",
              "      <th>balloon_payment</th>\n",
              "      <th>business_or_commercial_purpose</th>\n",
              "      <th>combined_loan_to_value_ratio</th>\n",
              "      <th>conforming_loan_limit</th>\n",
              "      <th>construction_method</th>\n",
              "      <th>discount_points</th>\n",
              "      <th>interest_rate</th>\n",
              "      <th>lender_credits</th>\n",
              "      <th>loan_amount</th>\n",
              "      <th>loan_type</th>\n",
              "      <th>lien_status</th>\n",
              "      <th>occupancy_type</th>\n",
              "      <th>property_value</th>\n",
              "      <th>total_loan_costs</th>\n",
              "      <th>total_units</th>\n",
              "      <th>accepted</th>\n",
              "      <th>denial_reason</th>\n",
              "    </tr>\n",
              "  </thead>\n",
              "  <tbody>\n",
              "    <tr>\n",
              "      <th>0</th>\n",
              "      <td>2019</td>\n",
              "      <td>TX</td>\n",
              "      <td>48201.0</td>\n",
              "      <td>26420.0</td>\n",
              "      <td>4.820142e+10</td>\n",
              "      <td>45-54</td>\n",
              "      <td>0.0</td>\n",
              "      <td>Native Hawaiian or Other Pacific Islander</td>\n",
              "      <td>Hispanic or Latino</td>\n",
              "      <td>Male</td>\n",
              "      <td>26.0</td>\n",
              "      <td>&gt;60%</td>\n",
              "      <td>2331.0</td>\n",
              "      <td>39.0</td>\n",
              "      <td>84.39</td>\n",
              "      <td>6949.0</td>\n",
              "      <td>86.0</td>\n",
              "      <td>7H6GLXDRUGQFU57RNE97</td>\n",
              "      <td>NaN</td>\n",
              "      <td>NaN</td>\n",
              "      <td>77100.0</td>\n",
              "      <td>0.0</td>\n",
              "      <td>0.0</td>\n",
              "      <td>99.640</td>\n",
              "      <td>C</td>\n",
              "      <td>Site-built</td>\n",
              "      <td>NaN</td>\n",
              "      <td>NaN</td>\n",
              "      <td>NaN</td>\n",
              "      <td>95000.0</td>\n",
              "      <td>Conventional</td>\n",
              "      <td>Subordinate Lien</td>\n",
              "      <td>Principal residence</td>\n",
              "      <td>155000.0</td>\n",
              "      <td>NaN</td>\n",
              "      <td>1.0</td>\n",
              "      <td>0.0</td>\n",
              "      <td>Debt-to-income ratio</td>\n",
              "    </tr>\n",
              "    <tr>\n",
              "      <th>1</th>\n",
              "      <td>2019</td>\n",
              "      <td>TX</td>\n",
              "      <td>48201.0</td>\n",
              "      <td>26420.0</td>\n",
              "      <td>4.820143e+10</td>\n",
              "      <td>55-64</td>\n",
              "      <td>0.0</td>\n",
              "      <td>White</td>\n",
              "      <td>Not Hispanic or Latino</td>\n",
              "      <td>Joint</td>\n",
              "      <td>379.0</td>\n",
              "      <td>&gt;60%</td>\n",
              "      <td>1202.0</td>\n",
              "      <td>35.0</td>\n",
              "      <td>24.86</td>\n",
              "      <td>3270.0</td>\n",
              "      <td>360.0</td>\n",
              "      <td>7H6GLXDRUGQFU57RNE97</td>\n",
              "      <td>NaN</td>\n",
              "      <td>NaN</td>\n",
              "      <td>77100.0</td>\n",
              "      <td>0.0</td>\n",
              "      <td>0.0</td>\n",
              "      <td>68.617</td>\n",
              "      <td>NC</td>\n",
              "      <td>Site-built</td>\n",
              "      <td>NaN</td>\n",
              "      <td>NaN</td>\n",
              "      <td>NaN</td>\n",
              "      <td>3225000.0</td>\n",
              "      <td>Conventional</td>\n",
              "      <td>First Lien</td>\n",
              "      <td>Principal residence</td>\n",
              "      <td>4705000.0</td>\n",
              "      <td>NaN</td>\n",
              "      <td>1.0</td>\n",
              "      <td>0.0</td>\n",
              "      <td>Debt-to-income ratio</td>\n",
              "    </tr>\n",
              "    <tr>\n",
              "      <th>2</th>\n",
              "      <td>2019</td>\n",
              "      <td>TX</td>\n",
              "      <td>48201.0</td>\n",
              "      <td>26420.0</td>\n",
              "      <td>4.820122e+10</td>\n",
              "      <td>45-54</td>\n",
              "      <td>0.0</td>\n",
              "      <td>Asian</td>\n",
              "      <td>Hispanic or Latino</td>\n",
              "      <td>Joint</td>\n",
              "      <td>86.0</td>\n",
              "      <td>41%-&lt;46%</td>\n",
              "      <td>1261.0</td>\n",
              "      <td>45.0</td>\n",
              "      <td>89.71</td>\n",
              "      <td>4803.0</td>\n",
              "      <td>50.0</td>\n",
              "      <td>7H6GLXDRUGQFU57RNE97</td>\n",
              "      <td>NaN</td>\n",
              "      <td>NaN</td>\n",
              "      <td>77100.0</td>\n",
              "      <td>0.0</td>\n",
              "      <td>0.0</td>\n",
              "      <td>58.330</td>\n",
              "      <td>C</td>\n",
              "      <td>Site-built</td>\n",
              "      <td>NaN</td>\n",
              "      <td>6.010</td>\n",
              "      <td>NaN</td>\n",
              "      <td>105000.0</td>\n",
              "      <td>Conventional</td>\n",
              "      <td>First Lien</td>\n",
              "      <td>Principal residence</td>\n",
              "      <td>185000.0</td>\n",
              "      <td>NaN</td>\n",
              "      <td>1.0</td>\n",
              "      <td>1.0</td>\n",
              "      <td>NaN</td>\n",
              "    </tr>\n",
              "    <tr>\n",
              "      <th>3</th>\n",
              "      <td>2019</td>\n",
              "      <td>TX</td>\n",
              "      <td>48201.0</td>\n",
              "      <td>26420.0</td>\n",
              "      <td>4.820152e+10</td>\n",
              "      <td>55-64</td>\n",
              "      <td>1.0</td>\n",
              "      <td>White</td>\n",
              "      <td>Hispanic or Latino</td>\n",
              "      <td>Female</td>\n",
              "      <td>25.0</td>\n",
              "      <td>36%-&lt;41%</td>\n",
              "      <td>651.0</td>\n",
              "      <td>41.0</td>\n",
              "      <td>75.32</td>\n",
              "      <td>3991.0</td>\n",
              "      <td>66.0</td>\n",
              "      <td>7H6GLXDRUGQFU57RNE97</td>\n",
              "      <td>NaN</td>\n",
              "      <td>NaN</td>\n",
              "      <td>77100.0</td>\n",
              "      <td>0.0</td>\n",
              "      <td>0.0</td>\n",
              "      <td>18.220</td>\n",
              "      <td>C</td>\n",
              "      <td>Site-built</td>\n",
              "      <td>NaN</td>\n",
              "      <td>6.125</td>\n",
              "      <td>NaN</td>\n",
              "      <td>65000.0</td>\n",
              "      <td>Conventional</td>\n",
              "      <td>First Lien</td>\n",
              "      <td>Principal residence</td>\n",
              "      <td>375000.0</td>\n",
              "      <td>NaN</td>\n",
              "      <td>1.0</td>\n",
              "      <td>1.0</td>\n",
              "      <td>NaN</td>\n",
              "    </tr>\n",
              "    <tr>\n",
              "      <th>4</th>\n",
              "      <td>2019</td>\n",
              "      <td>TX</td>\n",
              "      <td>48201.0</td>\n",
              "      <td>26420.0</td>\n",
              "      <td>4.820133e+10</td>\n",
              "      <td>65-74</td>\n",
              "      <td>1.0</td>\n",
              "      <td>White</td>\n",
              "      <td>Not Hispanic or Latino</td>\n",
              "      <td>Male</td>\n",
              "      <td>33.0</td>\n",
              "      <td>20%-&lt;30%</td>\n",
              "      <td>871.0</td>\n",
              "      <td>44.0</td>\n",
              "      <td>94.26</td>\n",
              "      <td>6028.0</td>\n",
              "      <td>52.0</td>\n",
              "      <td>7H6GLXDRUGQFU57RNE97</td>\n",
              "      <td>NaN</td>\n",
              "      <td>NaN</td>\n",
              "      <td>77100.0</td>\n",
              "      <td>0.0</td>\n",
              "      <td>0.0</td>\n",
              "      <td>30.330</td>\n",
              "      <td>C</td>\n",
              "      <td>Site-built</td>\n",
              "      <td>NaN</td>\n",
              "      <td>4.500</td>\n",
              "      <td>NaN</td>\n",
              "      <td>75000.0</td>\n",
              "      <td>Conventional</td>\n",
              "      <td>First Lien</td>\n",
              "      <td>Principal residence</td>\n",
              "      <td>235000.0</td>\n",
              "      <td>NaN</td>\n",
              "      <td>1.0</td>\n",
              "      <td>1.0</td>\n",
              "      <td>NaN</td>\n",
              "    </tr>\n",
              "  </tbody>\n",
              "</table>\n",
              "</div>\n",
              "      <button class=\"colab-df-convert\" onclick=\"convertToInteractive('df-442a09f1-a22a-44ee-8825-43b05a386e09')\"\n",
              "              title=\"Convert this dataframe to an interactive table.\"\n",
              "              style=\"display:none;\">\n",
              "        \n",
              "  <svg xmlns=\"http://www.w3.org/2000/svg\" height=\"24px\"viewBox=\"0 0 24 24\"\n",
              "       width=\"24px\">\n",
              "    <path d=\"M0 0h24v24H0V0z\" fill=\"none\"/>\n",
              "    <path d=\"M18.56 5.44l.94 2.06.94-2.06 2.06-.94-2.06-.94-.94-2.06-.94 2.06-2.06.94zm-11 1L8.5 8.5l.94-2.06 2.06-.94-2.06-.94L8.5 2.5l-.94 2.06-2.06.94zm10 10l.94 2.06.94-2.06 2.06-.94-2.06-.94-.94-2.06-.94 2.06-2.06.94z\"/><path d=\"M17.41 7.96l-1.37-1.37c-.4-.4-.92-.59-1.43-.59-.52 0-1.04.2-1.43.59L10.3 9.45l-7.72 7.72c-.78.78-.78 2.05 0 2.83L4 21.41c.39.39.9.59 1.41.59.51 0 1.02-.2 1.41-.59l7.78-7.78 2.81-2.81c.8-.78.8-2.07 0-2.86zM5.41 20L4 18.59l7.72-7.72 1.47 1.35L5.41 20z\"/>\n",
              "  </svg>\n",
              "      </button>\n",
              "      \n",
              "  <style>\n",
              "    .colab-df-container {\n",
              "      display:flex;\n",
              "      flex-wrap:wrap;\n",
              "      gap: 12px;\n",
              "    }\n",
              "\n",
              "    .colab-df-convert {\n",
              "      background-color: #E8F0FE;\n",
              "      border: none;\n",
              "      border-radius: 50%;\n",
              "      cursor: pointer;\n",
              "      display: none;\n",
              "      fill: #1967D2;\n",
              "      height: 32px;\n",
              "      padding: 0 0 0 0;\n",
              "      width: 32px;\n",
              "    }\n",
              "\n",
              "    .colab-df-convert:hover {\n",
              "      background-color: #E2EBFA;\n",
              "      box-shadow: 0px 1px 2px rgba(60, 64, 67, 0.3), 0px 1px 3px 1px rgba(60, 64, 67, 0.15);\n",
              "      fill: #174EA6;\n",
              "    }\n",
              "\n",
              "    [theme=dark] .colab-df-convert {\n",
              "      background-color: #3B4455;\n",
              "      fill: #D2E3FC;\n",
              "    }\n",
              "\n",
              "    [theme=dark] .colab-df-convert:hover {\n",
              "      background-color: #434B5C;\n",
              "      box-shadow: 0px 1px 3px 1px rgba(0, 0, 0, 0.15);\n",
              "      filter: drop-shadow(0px 1px 2px rgba(0, 0, 0, 0.3));\n",
              "      fill: #FFFFFF;\n",
              "    }\n",
              "  </style>\n",
              "\n",
              "      <script>\n",
              "        const buttonEl =\n",
              "          document.querySelector('#df-442a09f1-a22a-44ee-8825-43b05a386e09 button.colab-df-convert');\n",
              "        buttonEl.style.display =\n",
              "          google.colab.kernel.accessAllowed ? 'block' : 'none';\n",
              "\n",
              "        async function convertToInteractive(key) {\n",
              "          const element = document.querySelector('#df-442a09f1-a22a-44ee-8825-43b05a386e09');\n",
              "          const dataTable =\n",
              "            await google.colab.kernel.invokeFunction('convertToInteractive',\n",
              "                                                     [key], {});\n",
              "          if (!dataTable) return;\n",
              "\n",
              "          const docLinkHtml = 'Like what you see? Visit the ' +\n",
              "            '<a target=\"_blank\" href=https://colab.research.google.com/notebooks/data_table.ipynb>data table notebook</a>'\n",
              "            + ' to learn more about interactive tables.';\n",
              "          element.innerHTML = '';\n",
              "          dataTable['output_type'] = 'display_data';\n",
              "          await google.colab.output.renderOutput(dataTable, element);\n",
              "          const docLink = document.createElement('div');\n",
              "          docLink.innerHTML = docLinkHtml;\n",
              "          element.appendChild(docLink);\n",
              "        }\n",
              "      </script>\n",
              "    </div>\n",
              "  </div>\n",
              "  "
            ],
            "text/plain": [
              "   year state_code  county_code  ...  total_units  accepted         denial_reason\n",
              "0  2019         TX      48201.0  ...          1.0       0.0  Debt-to-income ratio\n",
              "1  2019         TX      48201.0  ...          1.0       0.0  Debt-to-income ratio\n",
              "2  2019         TX      48201.0  ...          1.0       1.0                   NaN\n",
              "3  2019         TX      48201.0  ...          1.0       1.0                   NaN\n",
              "4  2019         TX      48201.0  ...          1.0       1.0                   NaN\n",
              "\n",
              "[5 rows x 38 columns]"
            ]
          },
          "metadata": {},
          "execution_count": 263
        }
      ],
      "source": [
        "df.head()"
      ]
    },
    {
      "cell_type": "code",
      "execution_count": 264,
      "metadata": {
        "id": "vHgt5BtfjZpU",
        "colab": {
          "base_uri": "https://localhost:8080/"
        },
        "outputId": "148f9b66-9530-46ac-a7c8-0b0a77e458cb"
      },
      "outputs": [
        {
          "output_type": "execute_result",
          "data": {
            "text/plain": [
              "year                                   0\n",
              "state_code                            41\n",
              "county_code                            0\n",
              "msa                                    0\n",
              "census_tract                         641\n",
              "applicant_age                          0\n",
              "applicant_age_above_62                 0\n",
              "race                                   0\n",
              "ethnicity                              0\n",
              "sex                                    0\n",
              "income                              1033\n",
              "debt_to_income_ratio                2789\n",
              "tract_one_to_four_family_homes         0\n",
              "tract_median_age_of_hu                 0\n",
              "tract_minority_pop_percent             0\n",
              "tract_population                       0\n",
              "tract_to_msa_income_percentage         0\n",
              "lei                                    0\n",
              "aus                                17808\n",
              "purchaser_type                     41343\n",
              "ffiec_msa_md_median_fam_income         0\n",
              "balloon_payment                        0\n",
              "business_or_commercial_purpose         0\n",
              "combined_loan_to_value_ratio        6630\n",
              "conforming_loan_limit                  0\n",
              "construction_method                    0\n",
              "discount_points                    94541\n",
              "interest_rate                      17738\n",
              "lender_credits                     95665\n",
              "loan_amount                            0\n",
              "loan_type                              0\n",
              "lien_status                            0\n",
              "occupancy_type                         0\n",
              "property_value                      2229\n",
              "total_loan_costs                   24727\n",
              "total_units                            0\n",
              "accepted                               0\n",
              "denial_reason                     119270\n",
              "dtype: int64"
            ]
          },
          "metadata": {},
          "execution_count": 264
        }
      ],
      "source": [
        "df.isna().sum()"
      ]
    },
    {
      "cell_type": "code",
      "execution_count": 265,
      "metadata": {
        "id": "sb4HMFgnk_nV",
        "colab": {
          "base_uri": "https://localhost:8080/"
        },
        "outputId": "f55b3dcb-413a-4382-c5bb-0486d371645a"
      },
      "outputs": [
        {
          "output_type": "execute_result",
          "data": {
            "text/plain": [
              "array(['Native Hawaiian or Other Pacific Islander', 'White', 'Asian',\n",
              "       'Black or African American', 'American Indian or Alaska Native',\n",
              "       'Joint', '2 or more minority races', 'Free Form Text Only'],\n",
              "      dtype=object)"
            ]
          },
          "metadata": {},
          "execution_count": 265
        }
      ],
      "source": [
        "df['race'].unique()"
      ]
    },
    {
      "cell_type": "code",
      "execution_count": 266,
      "metadata": {
        "id": "xLJNjqa_o9Z8"
      },
      "outputs": [],
      "source": [
        "from sklearn.preprocessing import OrdinalEncoder"
      ]
    },
    {
      "cell_type": "code",
      "execution_count": 267,
      "metadata": {
        "id": "28E9iZjQoc81"
      },
      "outputs": [],
      "source": [
        "race_lst = ['Native Hawaiian or Other Pacific Islander', 'White', 'Asian',\n",
        "       'Black or African American', 'American Indian or Alaska Native',\n",
        "       'Joint', '2 or more minority races', 'Free Form Text Only']\n",
        "race_enc = OrdinalEncoder(categories = [race_lst])"
      ]
    },
    {
      "cell_type": "code",
      "execution_count": 268,
      "metadata": {
        "id": "EHqhchDDoSSW"
      },
      "outputs": [],
      "source": [
        "#data['race'] = data['race'].fit_transform(data['race'].values.reshape(-1,1))"
      ]
    },
    {
      "cell_type": "code",
      "execution_count": 269,
      "metadata": {
        "id": "DT4fLpRZpfKd"
      },
      "outputs": [],
      "source": [
        "minority_accepted = df.loc[(df.race == 'Black or African American') & (df.accepted == 1.0)]\n",
        "white_accepted = df.loc[(df.race == 'White') & (df.accepted == 1.0)]\n",
        "total_minority = df.loc[df.race == 'Black or African American']\n",
        "total_white = df.loc[df.race == 'White']"
      ]
    },
    {
      "cell_type": "code",
      "execution_count": 270,
      "metadata": {
        "colab": {
          "base_uri": "https://localhost:8080/"
        },
        "id": "ehI-PeulvcfQ",
        "outputId": "6a2dc8b5-a625-4fb0-d759-e72ed3647624"
      },
      "outputs": [
        {
          "output_type": "execute_result",
          "data": {
            "text/plain": [
              "count    18486.000000\n",
              "mean         0.810451\n",
              "std          0.391955\n",
              "min          0.000000\n",
              "25%          1.000000\n",
              "50%          1.000000\n",
              "75%          1.000000\n",
              "max          1.000000\n",
              "Name: accepted, dtype: float64"
            ]
          },
          "metadata": {},
          "execution_count": 270
        }
      ],
      "source": [
        "total_minority.describe().accepted"
      ]
    },
    {
      "cell_type": "code",
      "execution_count": 271,
      "metadata": {
        "colab": {
          "base_uri": "https://localhost:8080/"
        },
        "id": "GPX5xkxOrACA",
        "outputId": "e6ac2e79-48a6-466b-d794-0dbb75f957ca"
      },
      "outputs": [
        {
          "output_type": "execute_result",
          "data": {
            "text/plain": [
              "count    136261.000000\n",
              "mean          0.875283\n",
              "std           0.330398\n",
              "min           0.000000\n",
              "25%           1.000000\n",
              "50%           1.000000\n",
              "75%           1.000000\n",
              "max           1.000000\n",
              "Name: accepted, dtype: float64"
            ]
          },
          "metadata": {},
          "execution_count": 271
        }
      ],
      "source": [
        "df.describe().accepted"
      ]
    },
    {
      "cell_type": "code",
      "execution_count": 272,
      "metadata": {
        "colab": {
          "base_uri": "https://localhost:8080/"
        },
        "id": "1oOPDYGltjSh",
        "outputId": "62e21315-5b10-4ed7-c683-4c39ec909d3c"
      },
      "outputs": [
        {
          "output_type": "execute_result",
          "data": {
            "text/plain": [
              "count    98956.000000\n",
              "mean         0.888799\n",
              "std          0.314382\n",
              "min          0.000000\n",
              "25%          1.000000\n",
              "50%          1.000000\n",
              "75%          1.000000\n",
              "max          1.000000\n",
              "Name: accepted, dtype: float64"
            ]
          },
          "metadata": {},
          "execution_count": 272
        }
      ],
      "source": [
        "total_white.describe().accepted"
      ]
    },
    {
      "cell_type": "markdown",
      "source": [
        ""
      ],
      "metadata": {
        "id": "Gs4SG4Q1WqHz"
      }
    },
    {
      "cell_type": "code",
      "source": [
        "#data.info()"
      ],
      "metadata": {
        "id": "0KjLEEa1bfcY"
      },
      "execution_count": 273,
      "outputs": []
    },
    {
      "cell_type": "code",
      "source": [
        "def compare_2_groups(arr1, arr2, alpha):\n",
        "  stat, p = ttest_ind(arr1, arr2)\n",
        "  if p > alpha:\n",
        "    print(\"Similar Distributions (fail to reject H0)\", p)\n",
        "  else:\n",
        "    print(\"Different Distributions (reject H0)\", p)"
      ],
      "metadata": {
        "id": "xDxUq8pbeVco"
      },
      "execution_count": 274,
      "outputs": []
    },
    {
      "cell_type": "code",
      "source": [
        "compare_2_groups(total_white.accepted, total_minority.accepted, 0.05)"
      ],
      "metadata": {
        "id": "C3g-uYT9gMEh",
        "colab": {
          "base_uri": "https://localhost:8080/"
        },
        "outputId": "8040fff0-c64b-420f-8990-f836acba2799"
      },
      "execution_count": 275,
      "outputs": [
        {
          "output_type": "stream",
          "name": "stdout",
          "text": [
            "Different Distributions (reject H0) 8.915574928321153e-195\n"
          ]
        }
      ]
    },
    {
      "cell_type": "markdown",
      "metadata": {
        "id": "UPdWton6q7qy"
      },
      "source": [
        ""
      ]
    },
    {
      "cell_type": "code",
      "source": [
        "#multivariate analysis using variables race and gender and seeing if mortgage acceptance differs among these two variables.\n",
        "\n",
        "manova_analysis = MANOVA.from_formula('race + sex  ~ accepted', data = df)"
      ],
      "metadata": {
        "id": "O_m6wNxZk2mC"
      },
      "execution_count": 276,
      "outputs": []
    },
    {
      "cell_type": "code",
      "source": [
        "print(manova_analysis.mv_test())"
      ],
      "metadata": {
        "id": "DunQAcBClUwR",
        "colab": {
          "base_uri": "https://localhost:8080/"
        },
        "outputId": "5647742a-690a-400e-82fc-c62f85c30c9d"
      },
      "execution_count": 277,
      "outputs": [
        {
          "output_type": "stream",
          "name": "stdout",
          "text": [
            "                                   Multivariate linear model\n",
            "================================================================================================\n",
            "                                                                                                \n",
            "------------------------------------------------------------------------------------------------\n",
            "       Intercept               Value          Num DF    Den DF           F Value          Pr > F\n",
            "------------------------------------------------------------------------------------------------\n",
            "          Wilks' lambda              -0.0000 10.0000 136250.0000 -136358988717620304.0000 1.0000\n",
            "         Pillai's trace               1.0000 10.0000 136250.0000 -136358988717620304.0000 1.0000\n",
            " Hotelling-Lawley trace -10007999171935.4355 10.0000 136250.0000 -136358988717620304.0000 1.0000\n",
            "    Roy's greatest root -10007999171935.4355 10.0000 136250.0000 -136358988717620304.0000 1.0000\n",
            "------------------------------------------------------------------------------------------------\n",
            "                                                                                                \n",
            "------------------------------------------------------------------------------------------------------\n",
            "              accepted              Value         Num DF          Den DF         F Value        Pr > F\n",
            "------------------------------------------------------------------------------------------------------\n",
            "                Wilks' lambda       0.9919       10.0000       136250.0000       111.1817       0.0000\n",
            "               Pillai's trace       0.0081       10.0000       136250.0000       111.1817       0.0000\n",
            "       Hotelling-Lawley trace       0.0082       10.0000       136250.0000       111.1817       0.0000\n",
            "          Roy's greatest root       0.0082       10.0000       136250.0000       111.1817       0.0000\n",
            "================================================================================================\n",
            "\n"
          ]
        }
      ]
    },
    {
      "cell_type": "markdown",
      "source": [
        "\n"
      ],
      "metadata": {
        "id": "6_447kfznLa2"
      }
    },
    {
      "cell_type": "code",
      "source": [
        "import matplotlib as mpl\n",
        "import matplotlib.pyplot as plt\n",
        "import numpy as np\n",
        "fig, ax = plt.subplots()  # Create a figure containing a single axes.\n",
        "#ax.plot([1, 2, 3, 4], [1, 4, 2, 3]);  # Plot some data on the axes.\n",
        "ax.plot(total_minority.race,total_minority.accepted)"
      ],
      "metadata": {
        "id": "4U6tuhwvqSjY",
        "colab": {
          "base_uri": "https://localhost:8080/",
          "height": 282
        },
        "outputId": "72b367c9-e240-4762-d9e0-2594e342a415"
      },
      "execution_count": 278,
      "outputs": [
        {
          "output_type": "execute_result",
          "data": {
            "text/plain": [
              "[<matplotlib.lines.Line2D at 0x7fa4b75ed5d0>]"
            ]
          },
          "metadata": {},
          "execution_count": 278
        },
        {
          "output_type": "display_data",
          "data": {
            "image/png": "[encoded data removed]",
            "text/plain": [
              "<Figure size 432x288 with 1 Axes>"
            ]
          },
          "metadata": {
            "needs_background": "light"
          }
        }
      ]
    }
  ],
  "metadata": {
    "colab": {
      "collapsed_sections": [],
      "name": "datathon.ipynb",
      "provenance": [],
      "include_colab_link": true
    },
    "kernelspec": {
      "display_name": "Python 3",
      "name": "python3"
    },
    "language_info": {
      "name": "python"
    }
  },
  "nbformat": 4,
  "nbformat_minor": 0
}